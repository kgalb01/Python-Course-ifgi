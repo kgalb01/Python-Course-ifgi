{
 "cells": [
  {
   "cell_type": "markdown",
   "metadata": {},
   "source": [
    "# Find hospitals closest to an incident"
   ]
  },
  {
   "cell_type": "markdown",
   "metadata": {},
   "source": [
    "This jupyter notebook constitutes the Exercise Sheet for the first lecture aput the arcgis API for Python.\n",
    "\n",
    "It is build as a 'gap text' challenge, there is a lot of text, code snippets and comments already added. To complete this exercise follow the instructions to build a fully working jupyter notebook. Add comments if necessary. \n",
    "\n",
    "You will use the functions of the network analyst module from the arcgis api for Python to build a solver the finds the route and the distance in kilometers towards the next hospital in Münster. \n",
    "\n",
    "There are two bonus challenges for 2 points each:\n",
    "1. Build a Interactive Input for the Incident Coordinates\n",
    "2. Label the result of the routing with the kilometer distance\n",
    "\n",
    "You will find the details for the bonus challenge in the explanations.\n",
    "\n",
    "There are 10 Points for the exercise and 4 bonus points available.\n",
    "Please remember to write code that is easy readable, well documented and actually working. \n",
    "\n",
    "The `network` module of the ArcGIS API for Python can be used to solve different types of network analysis operations. In this Exercise, we see how to find the hospital that is closest to an incident."
   ]
  },
  {
   "cell_type": "markdown",
   "metadata": {},
   "source": [
    "## Closest facility"
   ]
  },
  {
   "cell_type": "markdown",
   "metadata": {},
   "source": [
    "The closest facility solver provides functionality for finding out the closest locations to a particular input point. This solver would be useful in cases when you have an incident and need to find the closest facility or need to get information on the travel time and the distance to each of the facilities from an incident point for reporting purposes.\n",
    "\n",
    "![](http://desktop.arcgis.com/en/arcmap/latest/extensions/network-analyst/GUID-96C273DB-6A24-4D42-AADA-975A33B44F3D-web.png)\n",
    "\n",
    "When finding closest facilities, you can specify how many to find and whether the direction of travel is toward or away from them. The closest facility solver displays the best routes between incidents and facilities, reports their travel costs, and returns driving directions."
   ]
  },
  {
   "cell_type": "markdown",
   "metadata": {},
   "source": [
    "### Connect to your GIS\n",
    "As a first step, you would need to establish a connection to your organization which could be an ArcGIS Online organization or an ArcGIS Enterprise."
   ]
  },
  {
   "cell_type": "code",
   "execution_count": 22,
   "metadata": {},
   "outputs": [],
   "source": [
    "from IPython.display import HTML\n",
    "import pandas as pd\n",
    "from arcgis.gis import GIS\n",
    "import getpass\n",
    "\n",
    "# Connect to your GIS \n",
    "username = input(\"Enter your username: \") # I don't know why getpass.getuser doesn't work here\n",
    "password = getpass.getpass(\"Enter your password: \")\n",
    "\n",
    "my_gis = GIS(url=\"https://www.arcgis.com\", username=username, password=password)\n",
    "\n",
    "# I followed this example:\n",
    "# https://developers.arcgis.com/python/guide/create-data/\n",
    "\n"
   ]
  },
  {
   "cell_type": "markdown",
   "metadata": {},
   "source": [
    "### Create a Network Layer\n",
    "To perform any network analysis (such as finding the closest facility, the best route between multiple stops, or service area around a facility), you would need to create a `NetworkLayer` object. In this sample, since we are solving for closest facilities, we need to create a `ClosestFacilityLayer` which is a type of `NetworkLayer`.\n",
    "\n",
    "To create any `NetworkLayer` object, you would need to provide the URL to the appropriate network analysis service. Hence, in this sample, we provide a `ClosestFacility` URL to create a `ClosestFacilityLayer` object. \n",
    "\n",
    "Since all ArcGIS Online organizations already have access to those routing services, you can access this URL through the `GIS` object's `helperServices` property. If you have your own ArcGIS Server based map service with network analysis capability enabled, you would need to provide the URL for this service.\n",
    "\n",
    "Let us start by importing the `network` module"
   ]
  },
  {
   "cell_type": "code",
   "execution_count": 23,
   "metadata": {},
   "outputs": [],
   "source": [
    "import arcgis.network as network"
   ]
  },
  {
   "cell_type": "markdown",
   "metadata": {},
   "source": [
    "Access the analysis URL from the `GIS` object"
   ]
  },
  {
   "cell_type": "code",
   "execution_count": 24,
   "metadata": {},
   "outputs": [
    {
     "data": {
      "text/plain": [
       "'https://route.arcgis.com/arcgis/rest/services/World/ClosestFacility/NAServer/ClosestFacility_World'"
      ]
     },
     "execution_count": 24,
     "metadata": {},
     "output_type": "execute_result"
    }
   ],
   "source": [
    "analysis_url = my_gis.properties.helperServices.closestFacility.url\n",
    "analysis_url"
   ]
  },
  {
   "cell_type": "markdown",
   "metadata": {},
   "source": [
    "Create a `ClosestFacilityLayer` object using this URL\n",
    "\n",
    "See the help for details in Syntax. https://developers.arcgis.com/python/api-reference/arcgis.network.toc.html#closestfacilitylayer"
   ]
  },
  {
   "cell_type": "code",
   "execution_count": 25,
   "metadata": {},
   "outputs": [],
   "source": [
    "cf_layer = network.ClosestFacilityLayer(analysis_url, gis=my_gis)"
   ]
  },
  {
   "cell_type": "markdown",
   "metadata": {},
   "source": [
    "### Create hospitals layer\n",
    "In this sample, we will be looking for the closest hospital (facility) to an incident location. Even though we are interested in finding out the closest one, it would still be helpful to get the information on the distance and travel time to all of them for reference purposes.\n",
    "\n",
    "In the code below, we need to geocode the hospitals' addresses as well as do the reverse geocode for the incident location which has been supplied in the latitude/longitude format.\n",
    "\n",
    "To perform the geocode operations, we import the `geocoding` module of the ArcGIS API."
   ]
  },
  {
   "cell_type": "code",
   "execution_count": 26,
   "metadata": {},
   "outputs": [],
   "source": [
    "from arcgis import geocoding"
   ]
  },
  {
   "cell_type": "markdown",
   "metadata": {},
   "source": [
    "In this sample, we geocode addresses of hospitals to create the facility layer. In your workflows, this could any feature layer. Create a list of hospitals in Münster, Germany"
   ]
  },
  {
   "cell_type": "code",
   "execution_count": 27,
   "metadata": {
    "scrolled": true
   },
   "outputs": [],
   "source": [
    "hospitals_addresses = ['Dorbaumstraße 300, 48157 Münster, Germany',\n",
    "                       'Alexianerweg 9, 48163 Münster, Germany',\n",
    "                       'Westfalenstr. 109, 48165 Münster, Germany',\n",
    "                       'Loerstraße 23, 48143 Münster, Germany',\n",
    "                       'Hohenzollernring 70, 48145 Münster, Germany',\n",
    "                       'Wichernstraße 8, 48147 Münster, Germany',\n",
    "                       'Domagkstr. 5, 48149 Münster, Germany']"
   ]
  },
  {
   "cell_type": "markdown",
   "metadata": {},
   "source": [
    "Loop through each address and geocode it. The geocode operation returns a list of matches for each address. We pick the first result and extract the coordinates from it and construct a `Feature` object out of it. Then we combine all the `Feature`s representing the hospitals into a `FeatureSet` object.\n",
    "\n",
    "Geocoding syntax: https://developers.arcgis.com/python/api-reference/arcgis.geocoding.html#geocode\n",
    "\n",
    "Feature Syntax: https://developers.arcgis.com/python/api-reference/arcgis.features.toc.html#feature\n",
    "\n",
    "Feature Set Syntax: https://developers.arcgis.com/python/api-reference/arcgis.features.toc.html#featureset\n",
    "\n",
    "Hint: Check the structure from the return element of the geocoder to properly construct your feature. Use a loop to run through the list of adresses, add each result feature to a python list and use this python list to build your feature set. While building the feature set, use this as the value for the spatial_reference parameter `{'wkid' : 4326, 'latestWkid': 4326}`"
   ]
  },
  {
   "cell_type": "code",
   "execution_count": 28,
   "metadata": {},
   "outputs": [],
   "source": [
    "from arcgis.features import Feature, FeatureSet"
   ]
  },
  {
   "cell_type": "code",
   "execution_count": 29,
   "metadata": {},
   "outputs": [],
   "source": [
    "hosp_feat_list = []\n",
    "\n",
    "for address in hospitals_addresses:\n",
    "    geocode_result = geocoding.geocode(address)[0]  # Get the first match\n",
    "    location = geocode_result['location']\n",
    "    \n",
    "    # Create a Feature object\n",
    "    feature = Feature(geometry={'x': location['x'], 'y': location['y'], 'spatialReference': {'wkid': 4326}})\n",
    "    hosp_feat_list.append(feature)"
   ]
  },
  {
   "cell_type": "markdown",
   "metadata": {},
   "source": [
    "Construct a `FeatureSet` using each hospital `Feature`."
   ]
  },
  {
   "cell_type": "code",
   "execution_count": 30,
   "metadata": {},
   "outputs": [],
   "source": [
    "hospitals_fset = FeatureSet(features=hosp_feat_list, spatial_reference={'wkid': 4326, 'latestWkid': 4326})"
   ]
  },
  {
   "cell_type": "markdown",
   "metadata": {},
   "source": [
    "Lets draw our hospitals on a map. To do so, intanciate a gis.map object, focused in Münster. Set the basemap to `arcgis-light-gray`\n",
    "\n",
    "Details about the map widget can be found here https://developers.arcgis.com/python/api-reference/arcgis.gis.toc.html#arcgis.gis.GIS.map\n",
    "use the map.draw() function to add the hospitals to the map. You can use the following value for the 'symbol' parameter: `{\"type\": \"esriSMS\",\"style\": \"esriSMSSquare\",\"color\": [76,115,0,255],\"size\": 8,}`"
   ]
  },
  {
   "cell_type": "code",
   "execution_count": 31,
   "metadata": {},
   "outputs": [],
   "source": [
    "from IPython.display import HTML\n"
   ]
  },
  {
   "cell_type": "code",
   "execution_count": 32,
   "metadata": {},
   "outputs": [],
   "source": [
    "# instanciate the map\n",
    "map1 = my_gis.map(\"Münster, Germany\")\n",
    "map1.basemap = 'arcgis-light-gray'\n",
    "\n",
    "# symbology for the hospitals\n",
    "symbol = {\n",
    "    \"type\": \"esriSMS\",\n",
    "    \"style\": \"esriSMSSquare\",\n",
    "    \"color\": [76,115,0,255],\n",
    "    \"size\": 8,\n",
    "}"
   ]
  },
  {
   "cell_type": "code",
   "execution_count": 33,
   "metadata": {
    "scrolled": true
   },
   "outputs": [
    {
     "data": {
      "application/vnd.jupyter.widget-view+json": {
       "model_id": "bd1f34aa2a3c49b28ebd2696b5d5948e",
       "version_major": 2,
       "version_minor": 0
      },
      "text/plain": [
       "MapView(layout=Layout(height='400px', width='100%'))"
      ]
     },
     "metadata": {},
     "output_type": "display_data"
    },
    {
     "data": {
      "text/html": [
       "<div class=\"map-static-img-preview-fad173b0-0695-48fb-960c-d5555186bcf8\"><img src=\"\"></img></div>"
      ],
      "text/plain": [
       "<IPython.core.display.HTML object>"
      ]
     },
     "metadata": {},
     "output_type": "display_data"
    },
    {
     "data": {
      "text/html": [
       "<div class=\"map-html-embed-preview-fad173b0-0695-48fb-960c-d5555186bcf8\"></div>"
      ],
      "text/plain": [
       "<IPython.core.display.HTML object>"
      ]
     },
     "metadata": {},
     "output_type": "display_data"
    }
   ],
   "source": [
    "# draw the hospitals on the map\n",
    "map1.draw(hospitals_fset, symbol = symbol)\n",
    "map1"
   ]
  },
  {
   "cell_type": "markdown",
   "metadata": {},
   "source": [
    "### Create incidents layer\n",
    "Lets use the geocoding.reverse_geocoding function to build an Feature set from the provided incident coordinates. Feel free to use your own coordinates or use the one provided\n",
    "\n",
    "The syntax for the reverse geocoding is here: https://developers.arcgis.com/python/api-reference/arcgis.geocoding.html#reverse-geocode\n",
    "\n",
    "1. Reverse Geocode the coordinates\n",
    "2. build a arcgis.Feature from the result object, using the 'location' from the response object as a parameter for the `geometry` parameter and the 'adress' from the response object for the `attributes` parameter of the Feature.\n",
    "3. Build a Feature set from the one Feature, similar to the feature set for the hospitals. You can use the same spatial_reference parameter"
   ]
  },
  {
   "cell_type": "markdown",
   "metadata": {},
   "source": [
    "## Bonus Challenge: Build an interactive Input for the coordinates\n",
    "for 2 extra points: \n",
    "Open an input form and verify that the input string has the format of XX.XXXX, YY.YYYY\n",
    "\n",
    "Give Feedback to the user if the format is correct or not."
   ]
  },
  {
   "cell_type": "code",
   "execution_count": 50,
   "metadata": {},
   "outputs": [
    {
     "name": "stdout",
     "output_type": "stream",
     "text": [
      "You decided to use the default coordinates.\n"
     ]
    }
   ],
   "source": [
    "import re\n",
    "\n",
    "# Open an input form and verify that the input string has the format of XX.XXXX, YY.YYYY\n",
    "coords = input(\"Enter the coordinates OR type in 'no' to use default coords: \")\n",
    "if re.match(\"^-?\\\\d+(\\\\.\\\\d+)?,\\\\s*-?\\\\d+(\\\\.\\\\d+)?$\", coords):\n",
    "    print(\"The format is correct.\")  # Give Feedback to the user if the format is correct or not.\n",
    "elif coords == \"no\":  # If the user enters \"no\", use the default coordinates\n",
    "    coords = \"7.641378810646356,51.95304243253929\"\n",
    "    print(\"You decided to use the default coordinates.\")\n",
    "else:\n",
    "    print(\"The format is incorrect. Please try again.\")  # Give Feedback to the user if the format is correct or not.\n"
   ]
  },
  {
   "cell_type": "code",
   "execution_count": 42,
   "metadata": {},
   "outputs": [],
   "source": [
    "# reverse geocode & build feature\n",
    "incident_coords = coords\n",
    "result = geocoding.reverse_geocode([float(x) for x in incident_coords.split(',')])"
   ]
  },
  {
   "cell_type": "code",
   "execution_count": 43,
   "metadata": {},
   "outputs": [],
   "source": [
    "# build the incident feature set\n",
    "incident_feature = Feature(geometry={'x': result['location']['x'], \n",
    "                                     'y': result['location']['y'], \n",
    "                                     'spatialReference': {'wkid': 4326}},\n",
    "                           attributes=result['address'])\n",
    "\n",
    "incident_fset = FeatureSet(features=[incident_feature], spatial_reference={'wkid': 4326, 'latestWkid': 4326})"
   ]
  },
  {
   "cell_type": "code",
   "execution_count": 37,
   "metadata": {},
   "outputs": [
    {
     "data": {
      "text/plain": [
       "[{\"geometry\": {\"x\": 7.641618030163, \"y\": 51.953028183304, \"spatialReference\": {\"wkid\": 4326}}, \"attributes\": {\"Match_addr\": \"Dortmunder Stra\\u00dfe 34, 48155, M\\u00fcnster, Mitte-Nordost, Mauritz, Nordrhein-Westfalen\", \"LongLabel\": \"Dortmunder Stra\\u00dfe 34, 48155, M\\u00fcnster, Mitte-Nordost, Mauritz, Nordrhein-Westfalen, DEU\", \"ShortLabel\": \"Dortmunder Stra\\u00dfe 34\", \"Addr_type\": \"PointAddress\", \"Type\": \"\", \"PlaceName\": \"\", \"AddNum\": \"34\", \"Address\": \"Dortmunder Stra\\u00dfe 34\", \"Block\": \"\", \"Sector\": \"\", \"Neighborhood\": \"Mauritz\", \"District\": \"Mitte-Nordost\", \"City\": \"M\\u00fcnster\", \"MetroArea\": \"\", \"Subregion\": \"M\\u00fcnster\", \"Region\": \"Nordrhein-Westfalen\", \"RegionAbbr\": \"NW\", \"Territory\": \"\", \"Postal\": \"48155\", \"PostalExt\": \"\", \"CntryName\": \"Deutschland\", \"CountryCode\": \"DEU\", \"X\": 7.641618030163, \"Y\": 51.953028183304, \"InputX\": 7.641378810646, \"InputY\": 51.953042432539, \"OBJECTID\": 1}}]"
      ]
     },
     "execution_count": 37,
     "metadata": {},
     "output_type": "execute_result"
    }
   ],
   "source": [
    "# check for the result (this cell does not need to be changed)\n",
    "incident_fset.features"
   ]
  },
  {
   "cell_type": "markdown",
   "metadata": {},
   "source": [
    "Draw the incident Feature Set on the map, using this value for the 'symbol' parameter `{\"type\": \"esriSMS\",\"style\": \"esriSMSCircle\",\"color\": [255,0,0,255],\"size\": 8}`"
   ]
  },
  {
   "cell_type": "code",
   "execution_count": 38,
   "metadata": {},
   "outputs": [
    {
     "data": {
      "application/vnd.jupyter.widget-view+json": {
       "model_id": "bd1f34aa2a3c49b28ebd2696b5d5948e",
       "version_major": 2,
       "version_minor": 0
      },
      "text/plain": [
       "MapView(layout=Layout(height='400px', width='100%'))"
      ]
     },
     "metadata": {},
     "output_type": "display_data"
    },
    {
     "data": {
      "text/html": [
       "<div class=\"map-static-img-preview-fad173b0-0695-48fb-960c-d5555186bcf8\"><img src=\"\"></img></div>"
      ],
      "text/plain": [
       "<IPython.core.display.HTML object>"
      ]
     },
     "metadata": {},
     "output_type": "display_data"
    },
    {
     "data": {
      "text/html": [
       "<div class=\"map-html-embed-preview-fad173b0-0695-48fb-960c-d5555186bcf8\"></div>"
      ],
      "text/plain": [
       "<IPython.core.display.HTML object>"
      ]
     },
     "metadata": {},
     "output_type": "display_data"
    }
   ],
   "source": [
    "# draw the incidents on the existing map widget\n",
    "symbol = {\"type\": \"esriSMS\",\"style\": \"esriSMSCircle\",\"color\": [255,0,0,255],\"size\": 8}\n",
    "map1.draw(incident_fset, symbol=symbol)\n",
    "map1\n",
    "# scroll up to find the map with the incident"
   ]
  },
  {
   "cell_type": "markdown",
   "metadata": {},
   "source": [
    "## Solve for closest hospital\n",
    "Now, you can solve the closest facility layer you created in the beginning. Syntax: https://developers.arcgis.com/python/api-reference/arcgis.network.toc.html#closestfacilitylayer\n",
    "\n",
    "Use your incidents feature set for the `incidents` parameter, your hospital feature set for the `facilities` parameter.\n",
    "\n",
    "Set the `default_target_facility_count` parameter to 1, since we only want to see the routing to the closest hospital\n",
    "\n",
    "Set the remaining attributes in a way that the impedance is set to travel time and the travel distance is added in kilometers\n"
   ]
  },
  {
   "cell_type": "code",
   "execution_count": 39,
   "metadata": {},
   "outputs": [
    {
     "ename": "Exception",
     "evalue": "{'code': 403, 'subcode': 2, 'message': \"User does not have permissions to access 'world/closestfacility.mapserver'.\", 'details': []}",
     "output_type": "error",
     "traceback": [
      "\u001b[1;31m---------------------------------------------------------------------------\u001b[0m",
      "\u001b[1;31mException\u001b[0m                                 Traceback (most recent call last)",
      "\u001b[1;32m~\\AppData\\Roaming\\Python\\Python39\\site-packages\\arcgis\\gis\\__init__.py\u001b[0m in \u001b[0;36m_hydrate\u001b[1;34m(self)\u001b[0m\n\u001b[0;32m  18742\u001b[0m             \u001b[1;32mtry\u001b[0m\u001b[1;33m:\u001b[0m\u001b[1;33m\u001b[0m\u001b[1;33m\u001b[0m\u001b[0m\n\u001b[1;32m> 18743\u001b[1;33m                 \u001b[0mself\u001b[0m\u001b[1;33m.\u001b[0m\u001b[0m_refresh\u001b[0m\u001b[1;33m(\u001b[0m\u001b[1;33m)\u001b[0m\u001b[1;33m\u001b[0m\u001b[1;33m\u001b[0m\u001b[0m\n\u001b[0m\u001b[0;32m  18744\u001b[0m \u001b[1;33m\u001b[0m\u001b[0m\n",
      "\u001b[1;32m~\\AppData\\Roaming\\Python\\Python39\\site-packages\\arcgis\\gis\\__init__.py\u001b[0m in \u001b[0;36m_refresh\u001b[1;34m(self)\u001b[0m\n\u001b[0;32m  18716\u001b[0m                 \u001b[1;32melse\u001b[0m\u001b[1;33m:\u001b[0m\u001b[1;33m\u001b[0m\u001b[1;33m\u001b[0m\u001b[0m\n\u001b[1;32m> 18717\u001b[1;33m                     \u001b[1;32mraise\u001b[0m \u001b[0me\u001b[0m\u001b[1;33m\u001b[0m\u001b[1;33m\u001b[0m\u001b[0m\n\u001b[0m\u001b[0;32m  18718\u001b[0m \u001b[1;33m\u001b[0m\u001b[0m\n",
      "\u001b[1;32m~\\AppData\\Roaming\\Python\\Python39\\site-packages\\arcgis\\gis\\__init__.py\u001b[0m in \u001b[0;36m_refresh\u001b[1;34m(self)\u001b[0m\n\u001b[0;32m  18705\u001b[0m                 \u001b[1;32melse\u001b[0m\u001b[1;33m:\u001b[0m\u001b[1;33m\u001b[0m\u001b[1;33m\u001b[0m\u001b[0m\n\u001b[1;32m> 18706\u001b[1;33m                     dictdata = self._con.post(\n\u001b[0m\u001b[0;32m  18707\u001b[0m                         \u001b[0mself\u001b[0m\u001b[1;33m.\u001b[0m\u001b[0murl\u001b[0m\u001b[1;33m,\u001b[0m \u001b[0mparams\u001b[0m\u001b[1;33m\u001b[0m\u001b[1;33m\u001b[0m\u001b[0m\n",
      "\u001b[1;32m~\\AppData\\Roaming\\Python\\Python39\\site-packages\\arcgis\\gis\\_impl\\_con\\_connection.py\u001b[0m in \u001b[0;36mpost\u001b[1;34m(self, path, params, files, **kwargs)\u001b[0m\n\u001b[0;32m   1525\u001b[0m             \u001b[1;32mreturn\u001b[0m \u001b[0mresp\u001b[0m\u001b[1;33m\u001b[0m\u001b[1;33m\u001b[0m\u001b[0m\n\u001b[1;32m-> 1526\u001b[1;33m         return self._handle_response(\n\u001b[0m\u001b[0;32m   1527\u001b[0m             \u001b[0mresp\u001b[0m\u001b[1;33m=\u001b[0m\u001b[0mresp\u001b[0m\u001b[1;33m,\u001b[0m\u001b[1;33m\u001b[0m\u001b[1;33m\u001b[0m\u001b[0m\n",
      "\u001b[1;32m~\\AppData\\Roaming\\Python\\Python39\\site-packages\\arcgis\\gis\\_impl\\_con\\_connection.py\u001b[0m in \u001b[0;36m_handle_response\u001b[1;34m(self, resp, file_name, out_path, try_json, force_bytes, ignore_error_key)\u001b[0m\n\u001b[0;32m    982\u001b[0m                 \u001b[1;32mif\u001b[0m \u001b[1;34m\"error\"\u001b[0m \u001b[1;32min\u001b[0m \u001b[0mdata\u001b[0m \u001b[1;32mand\u001b[0m \u001b[0mignore_error_key\u001b[0m \u001b[1;33m==\u001b[0m \u001b[1;32mFalse\u001b[0m\u001b[1;33m:\u001b[0m\u001b[1;33m\u001b[0m\u001b[1;33m\u001b[0m\u001b[0m\n\u001b[1;32m--> 983\u001b[1;33m                     \u001b[1;32mraise\u001b[0m \u001b[0mException\u001b[0m\u001b[1;33m(\u001b[0m\u001b[0mdata\u001b[0m\u001b[1;33m[\u001b[0m\u001b[1;34m\"error\"\u001b[0m\u001b[1;33m]\u001b[0m\u001b[1;33m)\u001b[0m\u001b[1;33m\u001b[0m\u001b[1;33m\u001b[0m\u001b[0m\n\u001b[0m\u001b[0;32m    984\u001b[0m             \u001b[1;32melse\u001b[0m\u001b[1;33m:\u001b[0m\u001b[1;33m\u001b[0m\u001b[1;33m\u001b[0m\u001b[0m\n",
      "\u001b[1;31mException\u001b[0m: {'code': 403, 'subcode': 2, 'message': \"User does not have permissions to access 'world/closestfacility.mapserver'.\", 'details': []}",
      "\nDuring handling of the above exception, another exception occurred:\n",
      "\u001b[1;31mException\u001b[0m                                 Traceback (most recent call last)",
      "\u001b[1;32m~\\AppData\\Local\\Temp\\ipykernel_14028\\4043876145.py\u001b[0m in \u001b[0;36m<cell line: 2>\u001b[1;34m()\u001b[0m\n\u001b[0;32m      1\u001b[0m \u001b[1;31m# solve your closest facillity layer\u001b[0m\u001b[1;33m\u001b[0m\u001b[1;33m\u001b[0m\u001b[0m\n\u001b[1;32m----> 2\u001b[1;33m result = cf_layer.solve_closest_facility(incidents=incident_fset,\n\u001b[0m\u001b[0;32m      3\u001b[0m                                         \u001b[0mfacilities\u001b[0m\u001b[1;33m=\u001b[0m\u001b[0mhospitals_fset\u001b[0m\u001b[1;33m,\u001b[0m\u001b[1;33m\u001b[0m\u001b[1;33m\u001b[0m\u001b[0m\n\u001b[0;32m      4\u001b[0m                                         \u001b[0mdefault_target_facility_count\u001b[0m\u001b[1;33m=\u001b[0m\u001b[1;36m1\u001b[0m\u001b[1;33m,\u001b[0m\u001b[1;33m\u001b[0m\u001b[1;33m\u001b[0m\u001b[0m\n\u001b[0;32m      5\u001b[0m                                         \u001b[0mreturn_facilities\u001b[0m\u001b[1;33m=\u001b[0m\u001b[1;32mTrue\u001b[0m\u001b[1;33m,\u001b[0m\u001b[1;33m\u001b[0m\u001b[1;33m\u001b[0m\u001b[0m\n",
      "\u001b[1;32m~\\AppData\\Roaming\\Python\\Python39\\site-packages\\arcgis\\network\\_layer.py\u001b[0m in \u001b[0;36msolve_closest_facility\u001b[1;34m(self, incidents, facilities, barriers, polyline_barriers, polygon_barriers, travel_mode, attribute_parameter_values, return_directions, directions_language, directions_style_name, directions_length_units, directions_time_attribute_name, return_cf_routes, return_facilities, return_incidents, return_barriers, return_polyline_barriers, return_polygon_barriers, output_lines, default_cutoff, default_target_facility_count, travel_direction, out_sr, accumulate_attribute_names, impedance_attribute_name, restriction_attribute_names, restrict_u_turns, use_hierarchy, output_geometry_precision, output_geometry_precision_units, time_of_day, time_of_day_is_utc, time_of_day_usage, return_z, overrides, preserve_objectid, future, ignore_invalid_locations, directions_output_type, return_traversed_edges, return_traversed_junctions, return_traversed_turns, geometry_precision, geometry_precision_z, geometry_precision_m, locate_settings, return_empty_results)\u001b[0m\n\u001b[0;32m   1515\u001b[0m         \"\"\"\n\u001b[0;32m   1516\u001b[0m \u001b[1;33m\u001b[0m\u001b[0m\n\u001b[1;32m-> 1517\u001b[1;33m         \u001b[1;32mif\u001b[0m \u001b[1;32mnot\u001b[0m \u001b[0mself\u001b[0m\u001b[1;33m.\u001b[0m\u001b[0mproperties\u001b[0m\u001b[1;33m.\u001b[0m\u001b[0mlayerType\u001b[0m \u001b[1;33m==\u001b[0m \u001b[1;34m\"esriNAServerClosestFacilityLayer\"\u001b[0m\u001b[1;33m:\u001b[0m\u001b[1;33m\u001b[0m\u001b[1;33m\u001b[0m\u001b[0m\n\u001b[0m\u001b[0;32m   1518\u001b[0m             raise TypeError(\n\u001b[0;32m   1519\u001b[0m                 \u001b[1;34m\"The solveClosestFacility operation is supported on a network \"\u001b[0m\u001b[1;33m\u001b[0m\u001b[1;33m\u001b[0m\u001b[0m\n",
      "\u001b[1;32m~\\AppData\\Roaming\\Python\\Python39\\site-packages\\arcgis\\gis\\__init__.py\u001b[0m in \u001b[0;36mproperties\u001b[1;34m(self)\u001b[0m\n\u001b[0;32m  18727\u001b[0m             \u001b[1;32mreturn\u001b[0m \u001b[0mself\u001b[0m\u001b[1;33m.\u001b[0m\u001b[0m_lazy_properties\u001b[0m\u001b[1;33m\u001b[0m\u001b[1;33m\u001b[0m\u001b[0m\n\u001b[0;32m  18728\u001b[0m         \u001b[1;32melse\u001b[0m\u001b[1;33m:\u001b[0m\u001b[1;33m\u001b[0m\u001b[1;33m\u001b[0m\u001b[0m\n\u001b[1;32m> 18729\u001b[1;33m             \u001b[0mself\u001b[0m\u001b[1;33m.\u001b[0m\u001b[0m_hydrate\u001b[0m\u001b[1;33m(\u001b[0m\u001b[1;33m)\u001b[0m\u001b[1;33m\u001b[0m\u001b[1;33m\u001b[0m\u001b[0m\n\u001b[0m\u001b[0;32m  18730\u001b[0m             \u001b[1;32mreturn\u001b[0m \u001b[0mself\u001b[0m\u001b[1;33m.\u001b[0m\u001b[0m_lazy_properties\u001b[0m\u001b[1;33m\u001b[0m\u001b[1;33m\u001b[0m\u001b[0m\n\u001b[0;32m  18731\u001b[0m \u001b[1;33m\u001b[0m\u001b[0m\n",
      "\u001b[1;32m~\\AppData\\Roaming\\Python\\Python39\\site-packages\\arcgis\\gis\\__init__.py\u001b[0m in \u001b[0;36m_hydrate\u001b[1;34m(self)\u001b[0m\n\u001b[0;32m  18764\u001b[0m                     \u001b[1;31m# try as a public server\u001b[0m\u001b[1;33m\u001b[0m\u001b[1;33m\u001b[0m\u001b[0m\n\u001b[0;32m  18765\u001b[0m                     \u001b[0mself\u001b[0m\u001b[1;33m.\u001b[0m\u001b[0m_lazy_token\u001b[0m \u001b[1;33m=\u001b[0m \u001b[1;32mNone\u001b[0m\u001b[1;33m\u001b[0m\u001b[1;33m\u001b[0m\u001b[0m\n\u001b[1;32m> 18766\u001b[1;33m                     \u001b[0mself\u001b[0m\u001b[1;33m.\u001b[0m\u001b[0m_refresh\u001b[0m\u001b[1;33m(\u001b[0m\u001b[1;33m)\u001b[0m\u001b[1;33m\u001b[0m\u001b[1;33m\u001b[0m\u001b[0m\n\u001b[0m\u001b[0;32m  18767\u001b[0m \u001b[1;33m\u001b[0m\u001b[0m\n\u001b[0;32m  18768\u001b[0m                 \u001b[1;32mexcept\u001b[0m \u001b[0mHTTPError\u001b[0m \u001b[1;32mas\u001b[0m \u001b[0mhttperror\u001b[0m\u001b[1;33m:\u001b[0m\u001b[1;33m\u001b[0m\u001b[1;33m\u001b[0m\u001b[0m\n",
      "\u001b[1;32m~\\AppData\\Roaming\\Python\\Python39\\site-packages\\arcgis\\gis\\__init__.py\u001b[0m in \u001b[0;36m_refresh\u001b[1;34m(self)\u001b[0m\n\u001b[0;32m  18715\u001b[0m                     \u001b[0mdictdata\u001b[0m \u001b[1;33m=\u001b[0m \u001b[0mself\u001b[0m\u001b[1;33m.\u001b[0m\u001b[0m_con\u001b[0m\u001b[1;33m.\u001b[0m\u001b[0mget\u001b[0m\u001b[1;33m(\u001b[0m\u001b[0mself\u001b[0m\u001b[1;33m.\u001b[0m\u001b[0murl\u001b[0m\u001b[1;33m,\u001b[0m \u001b[0mparams\u001b[0m\u001b[1;33m)\u001b[0m\u001b[1;33m\u001b[0m\u001b[1;33m\u001b[0m\u001b[0m\n\u001b[0;32m  18716\u001b[0m                 \u001b[1;32melse\u001b[0m\u001b[1;33m:\u001b[0m\u001b[1;33m\u001b[0m\u001b[1;33m\u001b[0m\u001b[0m\n\u001b[1;32m> 18717\u001b[1;33m                     \u001b[1;32mraise\u001b[0m \u001b[0me\u001b[0m\u001b[1;33m\u001b[0m\u001b[1;33m\u001b[0m\u001b[0m\n\u001b[0m\u001b[0;32m  18718\u001b[0m \u001b[1;33m\u001b[0m\u001b[0m\n\u001b[0;32m  18719\u001b[0m         \u001b[0mself\u001b[0m\u001b[1;33m.\u001b[0m\u001b[0m_lazy_properties\u001b[0m \u001b[1;33m=\u001b[0m \u001b[0m_mixins\u001b[0m\u001b[1;33m.\u001b[0m\u001b[0mPropertyMap\u001b[0m\u001b[1;33m(\u001b[0m\u001b[0mdictdata\u001b[0m\u001b[1;33m)\u001b[0m\u001b[1;33m\u001b[0m\u001b[1;33m\u001b[0m\u001b[0m\n",
      "\u001b[1;32m~\\AppData\\Roaming\\Python\\Python39\\site-packages\\arcgis\\gis\\__init__.py\u001b[0m in \u001b[0;36m_refresh\u001b[1;34m(self)\u001b[0m\n\u001b[0;32m  18704\u001b[0m                     )\n\u001b[0;32m  18705\u001b[0m                 \u001b[1;32melse\u001b[0m\u001b[1;33m:\u001b[0m\u001b[1;33m\u001b[0m\u001b[1;33m\u001b[0m\u001b[0m\n\u001b[1;32m> 18706\u001b[1;33m                     dictdata = self._con.post(\n\u001b[0m\u001b[0;32m  18707\u001b[0m                         \u001b[0mself\u001b[0m\u001b[1;33m.\u001b[0m\u001b[0murl\u001b[0m\u001b[1;33m,\u001b[0m \u001b[0mparams\u001b[0m\u001b[1;33m\u001b[0m\u001b[1;33m\u001b[0m\u001b[0m\n\u001b[0;32m  18708\u001b[0m                     )  # , token=self._lazy_token)\n",
      "\u001b[1;32m~\\AppData\\Roaming\\Python\\Python39\\site-packages\\arcgis\\gis\\_impl\\_con\\_connection.py\u001b[0m in \u001b[0;36mpost\u001b[1;34m(self, path, params, files, **kwargs)\u001b[0m\n\u001b[0;32m   1524\u001b[0m         \u001b[1;32mif\u001b[0m \u001b[0mreturn_raw_response\u001b[0m\u001b[1;33m:\u001b[0m\u001b[1;33m\u001b[0m\u001b[1;33m\u001b[0m\u001b[0m\n\u001b[0;32m   1525\u001b[0m             \u001b[1;32mreturn\u001b[0m \u001b[0mresp\u001b[0m\u001b[1;33m\u001b[0m\u001b[1;33m\u001b[0m\u001b[0m\n\u001b[1;32m-> 1526\u001b[1;33m         return self._handle_response(\n\u001b[0m\u001b[0;32m   1527\u001b[0m             \u001b[0mresp\u001b[0m\u001b[1;33m=\u001b[0m\u001b[0mresp\u001b[0m\u001b[1;33m,\u001b[0m\u001b[1;33m\u001b[0m\u001b[1;33m\u001b[0m\u001b[0m\n\u001b[0;32m   1528\u001b[0m             \u001b[0mout_path\u001b[0m\u001b[1;33m=\u001b[0m\u001b[0mout_path\u001b[0m\u001b[1;33m,\u001b[0m\u001b[1;33m\u001b[0m\u001b[1;33m\u001b[0m\u001b[0m\n",
      "\u001b[1;32m~\\AppData\\Roaming\\Python\\Python39\\site-packages\\arcgis\\gis\\_impl\\_con\\_connection.py\u001b[0m in \u001b[0;36m_handle_response\u001b[1;34m(self, resp, file_name, out_path, try_json, force_bytes, ignore_error_key)\u001b[0m\n\u001b[0;32m    981\u001b[0m                 \u001b[0mdata\u001b[0m \u001b[1;33m=\u001b[0m \u001b[0mjson\u001b[0m\u001b[1;33m.\u001b[0m\u001b[0mloads\u001b[0m\u001b[1;33m(\u001b[0m\u001b[0mdata\u001b[0m\u001b[1;33m)\u001b[0m\u001b[1;33m\u001b[0m\u001b[1;33m\u001b[0m\u001b[0m\n\u001b[0;32m    982\u001b[0m                 \u001b[1;32mif\u001b[0m \u001b[1;34m\"error\"\u001b[0m \u001b[1;32min\u001b[0m \u001b[0mdata\u001b[0m \u001b[1;32mand\u001b[0m \u001b[0mignore_error_key\u001b[0m \u001b[1;33m==\u001b[0m \u001b[1;32mFalse\u001b[0m\u001b[1;33m:\u001b[0m\u001b[1;33m\u001b[0m\u001b[1;33m\u001b[0m\u001b[0m\n\u001b[1;32m--> 983\u001b[1;33m                     \u001b[1;32mraise\u001b[0m \u001b[0mException\u001b[0m\u001b[1;33m(\u001b[0m\u001b[0mdata\u001b[0m\u001b[1;33m[\u001b[0m\u001b[1;34m\"error\"\u001b[0m\u001b[1;33m]\u001b[0m\u001b[1;33m)\u001b[0m\u001b[1;33m\u001b[0m\u001b[1;33m\u001b[0m\u001b[0m\n\u001b[0m\u001b[0;32m    984\u001b[0m             \u001b[1;32melse\u001b[0m\u001b[1;33m:\u001b[0m\u001b[1;33m\u001b[0m\u001b[1;33m\u001b[0m\u001b[0m\n\u001b[0;32m    985\u001b[0m                 \u001b[1;32mtry\u001b[0m\u001b[1;33m:\u001b[0m\u001b[1;33m\u001b[0m\u001b[1;33m\u001b[0m\u001b[0m\n",
      "\u001b[1;31mException\u001b[0m: {'code': 403, 'subcode': 2, 'message': \"User does not have permissions to access 'world/closestfacility.mapserver'.\", 'details': []}"
     ]
    }
   ],
   "source": [
    "# solve your closest facillity layer\n",
    "result = cf_layer.solve_closest_facility(incidents=incident_fset,\n",
    "                                        facilities=hospitals_fset,\n",
    "                                        default_target_facility_count=1,\n",
    "                                        return_facilities=True,\n",
    "                                        impedance_attribute_name='TravelTime',\n",
    "                                        accumulate_attribute_names=['Kilometers','TravelTime'])\n"
   ]
  },
  {
   "cell_type": "markdown",
   "metadata": {},
   "source": [
    "Let us inspect the result dictionary. You will use the content of the `routes` dictionary to create the line to be plotted on the map. you can keep the following 3 Code Cells as is, without doing anything"
   ]
  },
  {
   "cell_type": "code",
   "execution_count": null,
   "metadata": {},
   "outputs": [
    {
     "data": {
      "text/plain": [
       "dict_keys(['requestID', 'routes', 'facilities', 'messages'])"
      ]
     },
     "execution_count": 134,
     "metadata": {},
     "output_type": "execute_result"
    }
   ],
   "source": [
    "result.keys()"
   ]
  },
  {
   "cell_type": "markdown",
   "metadata": {},
   "source": [
    "Let us use the `routes` dictionary to construct line features out of the routes to display on the map"
   ]
  },
  {
   "cell_type": "code",
   "execution_count": null,
   "metadata": {},
   "outputs": [
    {
     "data": {
      "text/plain": [
       "dict_keys(['fieldAliases', 'geometryType', 'spatialReference', 'fields', 'features'])"
      ]
     },
     "execution_count": 135,
     "metadata": {},
     "output_type": "execute_result"
    }
   ],
   "source": [
    "result['routes'].keys()"
   ]
  },
  {
   "cell_type": "code",
   "execution_count": null,
   "metadata": {},
   "outputs": [
    {
     "data": {
      "text/plain": [
       "dict_keys(['attributes', 'geometry'])"
      ]
     },
     "execution_count": 136,
     "metadata": {},
     "output_type": "execute_result"
    }
   ],
   "source": [
    "result['routes']['features'][0].keys()"
   ]
  },
  {
   "cell_type": "markdown",
   "metadata": {},
   "source": [
    "From here, you need to continue to modify the code\n",
    "\n",
    "Construct line features out of the routes that are returned. \n",
    "\n",
    "The process is the same as before. \n",
    "\n",
    "Build a `Feature` for each route (there yould only be one)\n",
    "Add this to a result list\n",
    "Build a `FeatureSet` from the list"
   ]
  },
  {
   "cell_type": "code",
   "execution_count": null,
   "metadata": {},
   "outputs": [],
   "source": [
    "# build the list with features\n",
    "line_feat_list = []\n",
    "for line_dict in result['routes']['features']:\n",
    "    f1 = Feature(line_dict['geometry'], line_dict['attributes'])\n",
    "    line_feat_list.append(f1)\n"
   ]
  },
  {
   "cell_type": "code",
   "execution_count": null,
   "metadata": {},
   "outputs": [],
   "source": [
    "# create a feature set\n",
    "routes_fset = FeatureSet(line_feat_list, \n",
    "                         geometry_type=result['routes']['geometryType'],\n",
    "                         spatial_reference= result['routes']['spatialReference'])"
   ]
  },
  {
   "cell_type": "markdown",
   "metadata": {},
   "source": [
    "Add the routes back to the map using the `draw` method of the map widget once again. Make sure to scroll back up to verify the result\n",
    "\n",
    "You can use this value for the symbol parameter `{'type': 'esriSLS', 'style': 'esriSLSSolid','color': [0,0,255,100], 'width': 6}`"
   ]
  },
  {
   "cell_type": "code",
   "execution_count": null,
   "metadata": {},
   "outputs": [],
   "source": [
    "# draw the result to the map\n",
    "symbol = {'type': 'esriSLS', 'style': 'esriSLSSolid','color': [0,0,255,100], 'width': 6}\n",
    "map1.draw(routes_fset, symbol = symbol)\n",
    "map1"
   ]
  },
  {
   "cell_type": "markdown",
   "metadata": {},
   "source": [
    "## Bonus Challenge \n",
    "for 2 Extra Points: Label the drawn Line with the distance value from the result object"
   ]
  },
  {
   "cell_type": "code",
   "execution_count": null,
   "metadata": {},
   "outputs": [],
   "source": [
    "for line_feat in line_feat_list:\n",
    "    map1.draw(line_feat.geometry, popup={\"title\": \"Route\", \"content\": f\"Distance: {line_feat.attributes['Total_Kilometers']} km\"})\n",
    "map1"
   ]
  }
 ],
 "metadata": {
  "anaconda-cloud": {},
  "esriNotebookRuntime": {
   "notebookRuntimeName": "ArcGIS Notebook Python 3 Standard",
   "notebookRuntimeVersion": "5.0"
  },
  "kernelspec": {
   "display_name": "ArcGISPro",
   "language": "Python",
   "name": "python3"
  },
  "language_info": {
   "codemirror_mode": {
    "name": "ipython",
    "version": 3
   },
   "file_extension": ".py",
   "mimetype": "text/x-python",
   "name": "python",
   "nbconvert_exporter": "python",
   "pygments_lexer": "ipython3",
   "version": "3.9.16"
  },
  "toc": {
   "base_numbering": 1,
   "nav_menu": {},
   "number_sections": true,
   "sideBar": true,
   "skip_h1_title": false,
   "title_cell": "Table of Contents",
   "title_sidebar": "Contents",
   "toc_cell": true,
   "toc_position": {},
   "toc_section_display": true,
   "toc_window_display": true
  }
 },
 "nbformat": 4,
 "nbformat_minor": 2
}
