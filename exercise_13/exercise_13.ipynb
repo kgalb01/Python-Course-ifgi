{
 "cells": [
  {
   "cell_type": "markdown",
   "metadata": {},
   "source": [
    "# Python in QGIS and ArcGIS\n",
    "## Exercise 13, Task 1\n",
    "### Author: Jonas Starke, Kieran Galbraith\n",
    "#### Date: 2024-07-10"
   ]
  },
  {
   "cell_type": "code",
   "execution_count": 22,
   "metadata": {},
   "outputs": [],
   "source": [
    "# import libraries / modules\n",
    "import requests\n",
    "import pandas as pd\n",
    "import xml.etree.ElementTree as ET"
   ]
  },
  {
   "cell_type": "code",
   "execution_count": 23,
   "metadata": {},
   "outputs": [
    {
     "name": "stdout",
     "output_type": "stream",
     "text": [
      "HTTP request successful\n",
      "XML parsing successful\n"
     ]
    }
   ],
   "source": [
    "# load in the XML data of Bochums public parking places and validate it\n",
    "# by printing the first 5 lines of the XML data\n",
    "response = requests.get('https://www.bcp-bonn.de/stellplatz/bcpext.xml')\n",
    "\n",
    "if response.status_code == 200:\n",
    "    print(\"HTTP request successful\")\n",
    "else:\n",
    "    print(f\"HTTP request failed with status code {response.status_code}\")\n",
    "\n",
    "try:\n",
    "    root = ET.fromstring(response.content)\n",
    "    \n",
    "    print(\"XML parsing successful\")\n",
    "except ET.ParseError as e:\n",
    "    print(f\"XML parsing error: {e}\")\n"
   ]
  },
  {
   "cell_type": "code",
   "execution_count": 27,
   "metadata": {},
   "outputs": [],
   "source": [
    "# initialize lists to store the data\n",
    "data = {\n",
    "    'Name': [],\n",
    "    'Total': [],\n",
    "    'Occupied': [],\n",
    "    'OccupancyPercentage': []\n",
    "}"
   ]
  },
  {
   "cell_type": "code",
   "execution_count": 28,
   "metadata": {},
   "outputs": [],
   "source": [
    "# parse the XML data and store its contents in the lists\n",
    "for parkhaus in root.findall('parkhaus'):\n",
    "    name = parkhaus.find('bezeichnung').text\n",
    "    total = int(parkhaus.find('gesamt').text)\n",
    "    free = int(parkhaus.find('frei').text)\n",
    "    occupied = total - free\n",
    "    occupancy_percentage = round((occupied / total) * 100, 2)\n",
    "    \n",
    "    data['Name'].append(name)\n",
    "    data['Total'].append(total)\n",
    "    data['Occupied'].append(occupied)\n",
    "    data['OccupancyPercentage'].append(occupancy_percentage)"
   ]
  },
  {
   "cell_type": "code",
   "execution_count": 29,
   "metadata": {},
   "outputs": [
    {
     "name": "stdout",
     "output_type": "stream",
     "text": [
      "               Name  Total  Occupied  OccupancyPercentage\n",
      "0         beethoven    416       245                 59.0\n",
      "1         beetplatz    200         0                  0.0\n",
      "2     friedensplatz    810       794                 98.0\n",
      "3          karstadt     99        28                 28.0\n",
      "4             markt    287       266                 93.0\n",
      "5     muensterplatz    312       212                 68.0\n",
      "6       operngarage    380       197                 52.0\n",
      "7      Rabinstrasse    305       239                 78.0\n",
      "8          rheinaue    240        20                  8.0\n",
      "9         stadthaus    320       251                 78.0\n",
      "10  stadthaus_unten    360       360                100.0\n",
      "11        unigarage    438       301                 69.0\n",
      "12     hauptbahnhof     94        88                 94.0\n",
      "13        bike_ride    220        75                 34.0\n"
     ]
    }
   ],
   "source": [
    "# create a pandas DataFrame from the data and print\n",
    "df = pd.DataFrame(data)\n",
    "print(df)"
   ]
  }
 ],
 "metadata": {
  "kernelspec": {
   "display_name": "Python 3",
   "language": "python",
   "name": "python3"
  },
  "language_info": {
   "codemirror_mode": {
    "name": "ipython",
    "version": 3
   },
   "file_extension": ".py",
   "mimetype": "text/x-python",
   "name": "python",
   "nbconvert_exporter": "python",
   "pygments_lexer": "ipython3",
   "version": "3.9.16"
  }
 },
 "nbformat": 4,
 "nbformat_minor": 2
}
